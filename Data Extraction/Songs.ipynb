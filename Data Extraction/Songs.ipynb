{
 "cells": [
  {
   "cell_type": "code",
   "execution_count": 47,
   "id": "9d2a4d1a",
   "metadata": {},
   "outputs": [],
   "source": [
    "import pandas as pd\n",
    "import sqlalchemy as sqla\n",
    "import numpy as np\n",
    "import spotipy\n",
    "from spotipy.oauth2 import SpotifyClientCredentials\n",
    "spotify = spotipy.Spotify(client_credentials_manager=SpotifyClientCredentials(client_id='3b8a7beb4a434db98620cfae1983cffc',client_secret='a5bc3f14c035496690b540b81c5053f5',))"
   ]
  },
  {
   "cell_type": "code",
   "execution_count": 3,
   "id": "bb013f69",
   "metadata": {},
   "outputs": [],
   "source": [
    "##Setting Up SQL Engine and Extracting Data\n",
    "engine = sqla.create_engine('sqlite:///top200data')\n",
    "pd.read_csv('top200data.csv').to_sql('top200data', engine)"
   ]
  },
  {
   "cell_type": "code",
   "execution_count": 42,
   "id": "8783d36e",
   "metadata": {},
   "outputs": [],
   "source": [
    "songslist = pd.read_sql('SELECT DISTINCT song, songcode, artist FROM top200data WHERE song IS NOT NULL',engine)"
   ]
  },
  {
   "cell_type": "code",
   "execution_count": 44,
   "id": "92a0e875",
   "metadata": {},
   "outputs": [],
   "source": [
    "songslist['artistmain'] = songslist['artist'].apply(lambda x: x.split(', ')[0])"
   ]
  },
  {
   "cell_type": "code",
   "execution_count": 45,
   "id": "136c81c9",
   "metadata": {},
   "outputs": [
    {
     "data": {
      "text/html": [
       "<div>\n",
       "<style scoped>\n",
       "    .dataframe tbody tr th:only-of-type {\n",
       "        vertical-align: middle;\n",
       "    }\n",
       "\n",
       "    .dataframe tbody tr th {\n",
       "        vertical-align: top;\n",
       "    }\n",
       "\n",
       "    .dataframe thead th {\n",
       "        text-align: right;\n",
       "    }\n",
       "</style>\n",
       "<table border=\"1\" class=\"dataframe\">\n",
       "  <thead>\n",
       "    <tr style=\"text-align: right;\">\n",
       "      <th></th>\n",
       "      <th>song</th>\n",
       "      <th>songcode</th>\n",
       "      <th>artist</th>\n",
       "      <th>artistmain</th>\n",
       "    </tr>\n",
       "  </thead>\n",
       "  <tbody>\n",
       "    <tr>\n",
       "      <th>0</th>\n",
       "      <td>Shape of You</td>\n",
       "      <td>7qiZfU4dY1lWllzX7mPBI3</td>\n",
       "      <td>Ed Sheeran</td>\n",
       "      <td>Ed Sheeran</td>\n",
       "    </tr>\n",
       "    <tr>\n",
       "      <th>1</th>\n",
       "      <td>Bad and Boujee (feat. Lil Uzi Vert)</td>\n",
       "      <td>4Km5HrUvYTaSUfiSGPJeQR</td>\n",
       "      <td>Migos</td>\n",
       "      <td>Migos</td>\n",
       "    </tr>\n",
       "    <tr>\n",
       "      <th>2</th>\n",
       "      <td>Fake Love</td>\n",
       "      <td>343YBumqHu19cGoGARUTsd</td>\n",
       "      <td>Drake</td>\n",
       "      <td>Drake</td>\n",
       "    </tr>\n",
       "    <tr>\n",
       "      <th>3</th>\n",
       "      <td>Castle on the Hill</td>\n",
       "      <td>6PCUP3dWmTjcTtXY02oFdT</td>\n",
       "      <td>Ed Sheeran</td>\n",
       "      <td>Ed Sheeran</td>\n",
       "    </tr>\n",
       "    <tr>\n",
       "      <th>4</th>\n",
       "      <td>Starboy</td>\n",
       "      <td>5aAx2yezTd8zXrkmtKl66Z</td>\n",
       "      <td>The Weeknd, Daft Punk</td>\n",
       "      <td>The Weeknd</td>\n",
       "    </tr>\n",
       "    <tr>\n",
       "      <th>...</th>\n",
       "      <td>...</td>\n",
       "      <td>...</td>\n",
       "      <td>...</td>\n",
       "      <td>...</td>\n",
       "    </tr>\n",
       "    <tr>\n",
       "      <th>13349</th>\n",
       "      <td>Que Tiene la Noche</td>\n",
       "      <td>6ClL99PvuCeBLTFTdnR1Hw</td>\n",
       "      <td>Sonido Caracol, Chacho Ramos</td>\n",
       "      <td>Sonido Caracol</td>\n",
       "    </tr>\n",
       "    <tr>\n",
       "      <th>13350</th>\n",
       "      <td>Polvo de Estrellas</td>\n",
       "      <td>43mlvzRr6aAEEevAljWGao</td>\n",
       "      <td>Karibe con K</td>\n",
       "      <td>Karibe con K</td>\n",
       "    </tr>\n",
       "    <tr>\n",
       "      <th>13351</th>\n",
       "      <td>Voy a Tomar</td>\n",
       "      <td>6DwFzfCgrnsC79Q0k52OD6</td>\n",
       "      <td>Lira, Rombai, Lauro</td>\n",
       "      <td>Lira</td>\n",
       "    </tr>\n",
       "    <tr>\n",
       "      <th>13352</th>\n",
       "      <td>Háblale y Dile</td>\n",
       "      <td>2vxnxwZMOEoCHksfUApiXe</td>\n",
       "      <td>Chacho Ramos</td>\n",
       "      <td>Chacho Ramos</td>\n",
       "    </tr>\n",
       "    <tr>\n",
       "      <th>13353</th>\n",
       "      <td>Nada Es para Siempre</td>\n",
       "      <td>6EUnEKaJnR4ZvCmnlJPCy8</td>\n",
       "      <td>Los Pikantes</td>\n",
       "      <td>Los Pikantes</td>\n",
       "    </tr>\n",
       "  </tbody>\n",
       "</table>\n",
       "<p>13354 rows × 4 columns</p>\n",
       "</div>"
      ],
      "text/plain": [
       "                                      song                songcode  \\\n",
       "0                             Shape of You  7qiZfU4dY1lWllzX7mPBI3   \n",
       "1      Bad and Boujee (feat. Lil Uzi Vert)  4Km5HrUvYTaSUfiSGPJeQR   \n",
       "2                                Fake Love  343YBumqHu19cGoGARUTsd   \n",
       "3                       Castle on the Hill  6PCUP3dWmTjcTtXY02oFdT   \n",
       "4                                  Starboy  5aAx2yezTd8zXrkmtKl66Z   \n",
       "...                                    ...                     ...   \n",
       "13349                   Que Tiene la Noche  6ClL99PvuCeBLTFTdnR1Hw   \n",
       "13350                   Polvo de Estrellas  43mlvzRr6aAEEevAljWGao   \n",
       "13351                          Voy a Tomar  6DwFzfCgrnsC79Q0k52OD6   \n",
       "13352                       Háblale y Dile  2vxnxwZMOEoCHksfUApiXe   \n",
       "13353                 Nada Es para Siempre  6EUnEKaJnR4ZvCmnlJPCy8   \n",
       "\n",
       "                             artist      artistmain  \n",
       "0                        Ed Sheeran      Ed Sheeran  \n",
       "1                             Migos           Migos  \n",
       "2                             Drake           Drake  \n",
       "3                        Ed Sheeran      Ed Sheeran  \n",
       "4             The Weeknd, Daft Punk      The Weeknd  \n",
       "...                             ...             ...  \n",
       "13349  Sonido Caracol, Chacho Ramos  Sonido Caracol  \n",
       "13350                  Karibe con K    Karibe con K  \n",
       "13351           Lira, Rombai, Lauro            Lira  \n",
       "13352                  Chacho Ramos    Chacho Ramos  \n",
       "13353                  Los Pikantes    Los Pikantes  \n",
       "\n",
       "[13354 rows x 4 columns]"
      ]
     },
     "execution_count": 45,
     "metadata": {},
     "output_type": "execute_result"
    }
   ],
   "source": [
    "songslist"
   ]
  },
  {
   "cell_type": "code",
   "execution_count": 48,
   "id": "e763f21c",
   "metadata": {},
   "outputs": [
    {
     "data": {
      "text/plain": [
       "[{'danceability': 0.825,\n",
       "  'energy': 0.652,\n",
       "  'key': 1,\n",
       "  'loudness': -3.183,\n",
       "  'mode': 0,\n",
       "  'speechiness': 0.0802,\n",
       "  'acousticness': 0.581,\n",
       "  'instrumentalness': 0,\n",
       "  'liveness': 0.0931,\n",
       "  'valence': 0.931,\n",
       "  'tempo': 95.977,\n",
       "  'type': 'audio_features',\n",
       "  'id': '7qiZfU4dY1lWllzX7mPBI3',\n",
       "  'uri': 'spotify:track:7qiZfU4dY1lWllzX7mPBI3',\n",
       "  'track_href': 'https://api.spotify.com/v1/tracks/7qiZfU4dY1lWllzX7mPBI3',\n",
       "  'analysis_url': 'https://api.spotify.com/v1/audio-analysis/7qiZfU4dY1lWllzX7mPBI3',\n",
       "  'duration_ms': 233713,\n",
       "  'time_signature': 4}]"
      ]
     },
     "execution_count": 48,
     "metadata": {},
     "output_type": "execute_result"
    }
   ],
   "source": [
    "spotify.audio_features('7qiZfU4dY1lWllzX7mPBI3')"
   ]
  },
  {
   "cell_type": "code",
   "execution_count": null,
   "id": "51f56410",
   "metadata": {},
   "outputs": [],
   "source": []
  }
 ],
 "metadata": {
  "kernelspec": {
   "display_name": "Python 3",
   "language": "python",
   "name": "python3"
  },
  "language_info": {
   "codemirror_mode": {
    "name": "ipython",
    "version": 3
   },
   "file_extension": ".py",
   "mimetype": "text/x-python",
   "name": "python",
   "nbconvert_exporter": "python",
   "pygments_lexer": "ipython3",
   "version": "3.9.3"
  }
 },
 "nbformat": 4,
 "nbformat_minor": 5
}
