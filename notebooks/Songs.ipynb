{
 "cells": [
  {
   "cell_type": "code",
   "execution_count": 53,
   "id": "9d2a4d1a",
   "metadata": {},
   "outputs": [],
   "source": [
    "import pandas as pd\n",
    "import sqlalchemy as sqla\n",
    "import numpy as np\n",
    "import spotipy\n",
    "from spotipy.oauth2 import SpotifyClientCredentials\n",
    "spotify = spotipy.Spotify(client_credentials_manager=SpotifyClientCredentials(client_id='3b8a7beb4a434db98620cfae1983cffc',client_secret='a5bc3f14c035496690b540b81c5053f5',))"
   ]
  },
  {
   "cell_type": "code",
   "execution_count": 8,
   "id": "bb013f69",
   "metadata": {},
   "outputs": [],
   "source": [
    "##Setting Up SQL Engine and Extracting Data\n",
    "engine = sqla.create_engine('sqlite:///top200data')\n",
    "pd.read_csv('../data/top200data.csv').to_sql('top200data', engine)"
   ]
  },
  {
   "cell_type": "code",
   "execution_count": 9,
   "id": "8783d36e",
   "metadata": {},
   "outputs": [],
   "source": [
    "songslist = pd.read_sql('SELECT DISTINCT song, songcode, artist FROM top200data WHERE song & songcode IS NOT NULL ',engine)"
   ]
  },
  {
   "cell_type": "code",
   "execution_count": 59,
   "id": "a5b5e8d0",
   "metadata": {},
   "outputs": [],
   "source": [
    "def searchfeatures(x,feature):\n",
    "    '''\n",
    "    Returns specific feature of a song from Spotify API\n",
    "    \n",
    "    Inputs: x=song code, feature: feature of song\n",
    "    Output: Value of specific feature for the song, nan if no value found\n",
    "    '''\n",
    "    try:\n",
    "        return spotify.audio_features(x)[0][feature]\n",
    "    except:\n",
    "        return np.nan\n",
    "    "
   ]
  },
  {
   "cell_type": "code",
   "execution_count": 60,
   "id": "0d7b52d6",
   "metadata": {},
   "outputs": [],
   "source": [
    "#Testing Code on Smaller Dataframe\n",
    "testdf=pd.DataFrame(columns=['track','dance'])\n",
    "testdf['track']=songslist['songcode'][0:5]\n",
    "testdf['dance']=testdf['track'].apply(lambda x: searchfeatures(x,'danceability') )\n",
    "testdf['energy']=testdf['track'].apply(lambda x: searchfeatures(x,'energy') )\n",
    "testdf['acousticness']=testdf['track'].apply(lambda x: searchfeatures(x,'acousticness') )"
   ]
  },
  {
   "cell_type": "code",
   "execution_count": 36,
   "id": "136c81c9",
   "metadata": {},
   "outputs": [],
   "source": [
    "##Filling Features of Each Song to Dataframe\n",
    "songslist['danceability'] = songslist['songcode'].apply(lambda x: searchfeatures(x,'danceability')) \n",
    "songslist['acousticness'] = songslist['songcode'].apply(lambda x: searchfeatures(x,'acousticness')) \n",
    "songslist['energy'] = songslist['songcode'].apply(lambda x: searchfeatures(x,'energy')) "
   ]
  },
  {
   "cell_type": "code",
   "execution_count": 4,
   "id": "92a0e875",
   "metadata": {},
   "outputs": [],
   "source": [
    "songslist['artistmain'] = songslist['artist'].apply(lambda x: x.split(', ')[0])"
   ]
  },
  {
   "cell_type": "code",
   "execution_count": 38,
   "id": "aa6e23b1",
   "metadata": {},
   "outputs": [],
   "source": [
    "songslist.to_csv('../data/songsdata.csv')\n"
   ]
  }
 ],
 "metadata": {
  "kernelspec": {
   "display_name": "Python 3",
   "language": "python",
   "name": "python3"
  },
  "language_info": {
   "codemirror_mode": {
    "name": "ipython",
    "version": 3
   },
   "file_extension": ".py",
   "mimetype": "text/x-python",
   "name": "python",
   "nbconvert_exporter": "python",
   "pygments_lexer": "ipython3",
   "version": "3.9.3"
  }
 },
 "nbformat": 4,
 "nbformat_minor": 5
}
