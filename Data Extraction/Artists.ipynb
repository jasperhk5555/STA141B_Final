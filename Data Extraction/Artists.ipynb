{
 "cells": [
  {
   "cell_type": "code",
   "execution_count": 63,
   "id": "960cdd2f",
   "metadata": {},
   "outputs": [],
   "source": [
    "import pandas as pd\n",
    "import sqlalchemy as sqla\n",
    "import numpy as np"
   ]
  },
  {
   "cell_type": "code",
   "execution_count": 9,
   "id": "9df8af7f",
   "metadata": {},
   "outputs": [],
   "source": [
    "##Setting Up SQL Engine and Extracting Data\n",
    "engine = sqla.create_engine('sqlite:///top200data')\n",
    "pd.read_csv('top200data.csv').to_sql('top200data', engine)"
   ]
  },
  {
   "cell_type": "code",
   "execution_count": 1,
   "id": "8189227e",
   "metadata": {},
   "outputs": [
    {
     "name": "stdout",
     "output_type": "stream",
     "text": [
      "Young Heart\n",
      "Beautiful Lies\n",
      "Beautiful Lies\n",
      "Beautiful Lies (Deluxe)\n",
      "Beautiful Lies (Deluxe)\n",
      "Fire Within\n",
      "Fire Within\n",
      "Fire Within (Deluxe)\n",
      "Fire Within (Deluxe)\n",
      "Fire Within (Deluxe)\n",
      "Live in London\n",
      "Birdy\n",
      "Birdy\n",
      "Birdy\n",
      "Birdy\n",
      "Birdy (Deluxe Version)\n"
     ]
    }
   ],
   "source": [
    "##Testing Spotipy API\n",
    "import spotipy\n",
    "from spotipy.oauth2 import SpotifyClientCredentials\n",
    "\n",
    "birdy_uri = 'spotify:artist:2WX2uTcsvV5OnS0inACecP'\n",
    "spotify = spotipy.Spotify(client_credentials_manager=SpotifyClientCredentials(client_id='3b8a7beb4a434db98620cfae1983cffc',client_secret='a5bc3f14c035496690b540b81c5053f5',))\n",
    "\n",
    "results = spotify.artist_albums(birdy_uri, album_type='album')\n",
    "albums = results['items']\n",
    "while results['next']:\n",
    "    results = spotify.next(results)\n",
    "    albums.extend(results['items'])\n",
    "\n",
    "for album in albums:\n",
    "    print(album['name'])"
   ]
  },
  {
   "cell_type": "code",
   "execution_count": 40,
   "id": "02b8c196",
   "metadata": {},
   "outputs": [
    {
     "data": {
      "text/plain": [
       "[]"
      ]
     },
     "execution_count": 40,
     "metadata": {},
     "output_type": "execute_result"
    }
   ],
   "source": [
    "##Test Extractiong of Genres \n",
    "results = spotify.search(q='artist:' + 'Los Pikantes', type='artist')\n",
    "results['artists']['items'][0]['genres']\n",
    "# items = results['artists']['items']\n",
    "# items['items']"
   ]
  },
  {
   "cell_type": "code",
   "execution_count": 39,
   "id": "67a83220",
   "metadata": {},
   "outputs": [
    {
     "data": {
      "text/html": [
       "<div>\n",
       "<style scoped>\n",
       "    .dataframe tbody tr th:only-of-type {\n",
       "        vertical-align: middle;\n",
       "    }\n",
       "\n",
       "    .dataframe tbody tr th {\n",
       "        vertical-align: top;\n",
       "    }\n",
       "\n",
       "    .dataframe thead th {\n",
       "        text-align: right;\n",
       "    }\n",
       "</style>\n",
       "<table border=\"1\" class=\"dataframe\">\n",
       "  <thead>\n",
       "    <tr style=\"text-align: right;\">\n",
       "      <th></th>\n",
       "      <th>artist</th>\n",
       "      <th>genre</th>\n",
       "    </tr>\n",
       "  </thead>\n",
       "  <tbody>\n",
       "    <tr>\n",
       "      <th>0</th>\n",
       "      <td>Ed Sheeran</td>\n",
       "      <td>[pop, uk pop]</td>\n",
       "    </tr>\n",
       "    <tr>\n",
       "      <th>1</th>\n",
       "      <td>Migos</td>\n",
       "      <td>[atl hip hop, hip hop, pop rap, rap, southern ...</td>\n",
       "    </tr>\n",
       "    <tr>\n",
       "      <th>2</th>\n",
       "      <td>Drake</td>\n",
       "      <td>[canadian hip hop, canadian pop, hip hop, pop ...</td>\n",
       "    </tr>\n",
       "    <tr>\n",
       "      <th>3</th>\n",
       "      <td>The Weeknd</td>\n",
       "      <td>[canadian contemporary r&amp;b, canadian pop, pop]</td>\n",
       "    </tr>\n",
       "    <tr>\n",
       "      <th>4</th>\n",
       "      <td>ZAYN</td>\n",
       "      <td>[dance pop, pop, post-teen pop, uk pop]</td>\n",
       "    </tr>\n",
       "    <tr>\n",
       "      <th>...</th>\n",
       "      <td>...</td>\n",
       "      <td>...</td>\n",
       "    </tr>\n",
       "    <tr>\n",
       "      <th>2515</th>\n",
       "      <td>Los Rehenes</td>\n",
       "      <td>[grupera, gruperas inmortales, regional mexica...</td>\n",
       "    </tr>\n",
       "    <tr>\n",
       "      <th>2516</th>\n",
       "      <td>Sonido Caracol</td>\n",
       "      <td>[cumbia pop, cumbia uruguaya, plena uruguaya]</td>\n",
       "    </tr>\n",
       "    <tr>\n",
       "      <th>2517</th>\n",
       "      <td>Karibe con K</td>\n",
       "      <td>[cumbia uruguaya]</td>\n",
       "    </tr>\n",
       "    <tr>\n",
       "      <th>2518</th>\n",
       "      <td>Chacho Ramos</td>\n",
       "      <td>[cumbia pop, cumbia uruguaya, plena uruguaya]</td>\n",
       "    </tr>\n",
       "    <tr>\n",
       "      <th>2519</th>\n",
       "      <td>Los Pikantes</td>\n",
       "      <td>[]</td>\n",
       "    </tr>\n",
       "  </tbody>\n",
       "</table>\n",
       "<p>2520 rows × 2 columns</p>\n",
       "</div>"
      ],
      "text/plain": [
       "              artist                                              genre\n",
       "0         Ed Sheeran                                      [pop, uk pop]\n",
       "1              Migos  [atl hip hop, hip hop, pop rap, rap, southern ...\n",
       "2              Drake  [canadian hip hop, canadian pop, hip hop, pop ...\n",
       "3         The Weeknd     [canadian contemporary r&b, canadian pop, pop]\n",
       "4               ZAYN            [dance pop, pop, post-teen pop, uk pop]\n",
       "...              ...                                                ...\n",
       "2515     Los Rehenes  [grupera, gruperas inmortales, regional mexica...\n",
       "2516  Sonido Caracol      [cumbia pop, cumbia uruguaya, plena uruguaya]\n",
       "2517    Karibe con K                                  [cumbia uruguaya]\n",
       "2518    Chacho Ramos      [cumbia pop, cumbia uruguaya, plena uruguaya]\n",
       "2519    Los Pikantes                                                 []\n",
       "\n",
       "[2520 rows x 2 columns]"
      ]
     },
     "execution_count": 39,
     "metadata": {},
     "output_type": "execute_result"
    }
   ],
   "source": [
    "##Extracting Unique List of Artists\n",
    "artistlist = pd.DataFrame(columns=['artist','genre'])\n",
    "\n",
    "##Only Counting Main Artist for Collaborations\n",
    "artistlist['artist'] = pd.read_sql('SELECT DISTINCT artist FROM top200data WHERE artist IS NOT NULL',engine)['artist'].apply(lambda x: x.split(', ')[0]).unique()\n",
    "artistlist\n",
    "for i in range(len(artistlist)):\n",
    "    try:\n",
    "        results = spotify.search(q='artist:' + artistlist.loc[i,'artist'], type='artist')\n",
    "        artistlist.loc[i,'genre']=results['artists']['items'][0]['genres']\n",
    "    except:\n",
    "        pass\n",
    "artistlist"
   ]
  },
  {
   "cell_type": "code",
   "execution_count": 83,
   "id": "a65d195e",
   "metadata": {},
   "outputs": [],
   "source": [
    "##Assgining NaNs for Artists with No Genres Associatied\n",
    "artistlist.loc[(artistlist['genre'].str.len() == 0),\"genre\"]=np.nan"
   ]
  },
  {
   "cell_type": "code",
   "execution_count": 85,
   "id": "61f4e7b7",
   "metadata": {},
   "outputs": [],
   "source": [
    "##Export Data\n",
    "artistlist.to_csv(\"artistsdata.csv\")"
   ]
  }
 ],
 "metadata": {
  "kernelspec": {
   "display_name": "Python 3",
   "language": "python",
   "name": "python3"
  },
  "language_info": {
   "codemirror_mode": {
    "name": "ipython",
    "version": 3
   },
   "file_extension": ".py",
   "mimetype": "text/x-python",
   "name": "python",
   "nbconvert_exporter": "python",
   "pygments_lexer": "ipython3",
   "version": "3.9.3"
  }
 },
 "nbformat": 4,
 "nbformat_minor": 5
}
