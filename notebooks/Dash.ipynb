{
 "cells": [
  {
   "cell_type": "code",
   "execution_count": 194,
   "id": "31395d0f",
   "metadata": {},
   "outputs": [],
   "source": [
    "import dash\n",
    "import pandas as pd\n",
    "import plotly.express as px\n",
    "from jupyter_dash import JupyterDash\n",
    "import dash_core_components as dcc\n",
    "import dash_html_components as html\n",
    "from dash.dependencies import Input, Output\n",
    "import plotly.graph_objects as go\n",
    "import numpy as np\n",
    "import sqlalchemy as sqla"
   ]
  },
  {
   "cell_type": "code",
   "execution_count": 195,
   "id": "0947a352",
   "metadata": {},
   "outputs": [],
   "source": [
    "import pycountry\n",
    "def alpha3(country):\n",
    "    try:\n",
    "        return pycountry.countries.get(name=country).alpha_3\n",
    "    except:\n",
    "        pass\n",
    "        \n",
    "countries = pd.read_csv(\"../data/countriesdata.csv\").drop(columns=[\"Unnamed: 0\"])\n",
    "countries[\"code3\"] = countries['country'].apply(lambda x: alpha3(x))\n",
    "\n",
    "countries.loc[2, \"code3\"]=\"BOL\"\n",
    "\n",
    "countries['color']=range(19)"
   ]
  },
  {
   "cell_type": "code",
   "execution_count": 196,
   "id": "faeee1e4",
   "metadata": {},
   "outputs": [],
   "source": [
    "def listunique(list):\n",
    "    unique = []\n",
    "    for i in list:\n",
    "        if i not in unique:\n",
    "            unique.append(i)\n",
    "    return unique"
   ]
  },
  {
   "cell_type": "code",
   "execution_count": 197,
   "id": "18a54d1e",
   "metadata": {},
   "outputs": [],
   "source": [
    "##Setting Date Options\n",
    "import datetime\n",
    "start_date = datetime.date(2017, 1, 6)\n",
    "end_date = datetime.date(2021, 1, 1)\n",
    "delta = datetime.timedelta(days = 7)\n",
    "ls_date = []\n",
    "while start_date <= end_date:\n",
    "    ls_date.append(str(start_date))\n",
    "    start_date += delta"
   ]
  },
  {
   "cell_type": "code",
   "execution_count": 198,
   "id": "9af8f8af",
   "metadata": {},
   "outputs": [
    {
     "ename": "OSError",
     "evalue": "Address 'http://127.0.0.1:8050' already in use.\n    Try passing a different port to run_server.",
     "output_type": "error",
     "traceback": [
      "\u001b[1;31m---------------------------------------------------------------------------\u001b[0m",
      "\u001b[1;31mOSError\u001b[0m                                   Traceback (most recent call last)",
      "\u001b[1;32m<ipython-input-198-06e423b623d7>\u001b[0m in \u001b[0;36m<module>\u001b[1;34m\u001b[0m\n\u001b[0;32m    120\u001b[0m \u001b[1;33m\u001b[0m\u001b[0m\n\u001b[0;32m    121\u001b[0m \u001b[1;33m\u001b[0m\u001b[0m\n\u001b[1;32m--> 122\u001b[1;33m \u001b[0mapp\u001b[0m\u001b[1;33m.\u001b[0m\u001b[0mrun_server\u001b[0m\u001b[1;33m(\u001b[0m\u001b[1;33m)\u001b[0m\u001b[1;33m\u001b[0m\u001b[1;33m\u001b[0m\u001b[0m\n\u001b[0m",
      "\u001b[1;32mc:\\users\\user\\appdata\\local\\programs\\python\\python39\\lib\\site-packages\\jupyter_dash\\jupyter_app.py\u001b[0m in \u001b[0;36mrun_server\u001b[1;34m(self, mode, width, height, inline_exceptions, **kwargs)\u001b[0m\n\u001b[0;32m    317\u001b[0m                 )\n\u001b[0;32m    318\u001b[0m \u001b[1;33m\u001b[0m\u001b[0m\n\u001b[1;32m--> 319\u001b[1;33m         \u001b[0mwait_for_app\u001b[0m\u001b[1;33m(\u001b[0m\u001b[1;33m)\u001b[0m\u001b[1;33m\u001b[0m\u001b[1;33m\u001b[0m\u001b[0m\n\u001b[0m\u001b[0;32m    320\u001b[0m \u001b[1;33m\u001b[0m\u001b[0m\n\u001b[0;32m    321\u001b[0m         \u001b[1;32mif\u001b[0m \u001b[0mJupyterDash\u001b[0m\u001b[1;33m.\u001b[0m\u001b[0m_in_colab\u001b[0m\u001b[1;33m:\u001b[0m\u001b[1;33m\u001b[0m\u001b[1;33m\u001b[0m\u001b[0m\n",
      "\u001b[1;32mc:\\users\\user\\appdata\\local\\programs\\python\\python39\\lib\\site-packages\\retrying.py\u001b[0m in \u001b[0;36mwrapped_f\u001b[1;34m(*args, **kw)\u001b[0m\n\u001b[0;32m     47\u001b[0m             \u001b[1;33m@\u001b[0m\u001b[0msix\u001b[0m\u001b[1;33m.\u001b[0m\u001b[0mwraps\u001b[0m\u001b[1;33m(\u001b[0m\u001b[0mf\u001b[0m\u001b[1;33m)\u001b[0m\u001b[1;33m\u001b[0m\u001b[1;33m\u001b[0m\u001b[0m\n\u001b[0;32m     48\u001b[0m             \u001b[1;32mdef\u001b[0m \u001b[0mwrapped_f\u001b[0m\u001b[1;33m(\u001b[0m\u001b[1;33m*\u001b[0m\u001b[0margs\u001b[0m\u001b[1;33m,\u001b[0m \u001b[1;33m**\u001b[0m\u001b[0mkw\u001b[0m\u001b[1;33m)\u001b[0m\u001b[1;33m:\u001b[0m\u001b[1;33m\u001b[0m\u001b[1;33m\u001b[0m\u001b[0m\n\u001b[1;32m---> 49\u001b[1;33m                 \u001b[1;32mreturn\u001b[0m \u001b[0mRetrying\u001b[0m\u001b[1;33m(\u001b[0m\u001b[1;33m*\u001b[0m\u001b[0mdargs\u001b[0m\u001b[1;33m,\u001b[0m \u001b[1;33m**\u001b[0m\u001b[0mdkw\u001b[0m\u001b[1;33m)\u001b[0m\u001b[1;33m.\u001b[0m\u001b[0mcall\u001b[0m\u001b[1;33m(\u001b[0m\u001b[0mf\u001b[0m\u001b[1;33m,\u001b[0m \u001b[1;33m*\u001b[0m\u001b[0margs\u001b[0m\u001b[1;33m,\u001b[0m \u001b[1;33m**\u001b[0m\u001b[0mkw\u001b[0m\u001b[1;33m)\u001b[0m\u001b[1;33m\u001b[0m\u001b[1;33m\u001b[0m\u001b[0m\n\u001b[0m\u001b[0;32m     50\u001b[0m \u001b[1;33m\u001b[0m\u001b[0m\n\u001b[0;32m     51\u001b[0m             \u001b[1;32mreturn\u001b[0m \u001b[0mwrapped_f\u001b[0m\u001b[1;33m\u001b[0m\u001b[1;33m\u001b[0m\u001b[0m\n",
      "\u001b[1;32mc:\\users\\user\\appdata\\local\\programs\\python\\python39\\lib\\site-packages\\retrying.py\u001b[0m in \u001b[0;36mcall\u001b[1;34m(self, fn, *args, **kwargs)\u001b[0m\n\u001b[0;32m    210\u001b[0m                 \u001b[1;32mif\u001b[0m \u001b[1;32mnot\u001b[0m \u001b[0mself\u001b[0m\u001b[1;33m.\u001b[0m\u001b[0m_wrap_exception\u001b[0m \u001b[1;32mand\u001b[0m \u001b[0mattempt\u001b[0m\u001b[1;33m.\u001b[0m\u001b[0mhas_exception\u001b[0m\u001b[1;33m:\u001b[0m\u001b[1;33m\u001b[0m\u001b[1;33m\u001b[0m\u001b[0m\n\u001b[0;32m    211\u001b[0m                     \u001b[1;31m# get() on an attempt with an exception should cause it to be raised, but raise just in case\u001b[0m\u001b[1;33m\u001b[0m\u001b[1;33m\u001b[0m\u001b[1;33m\u001b[0m\u001b[0m\n\u001b[1;32m--> 212\u001b[1;33m                     \u001b[1;32mraise\u001b[0m \u001b[0mattempt\u001b[0m\u001b[1;33m.\u001b[0m\u001b[0mget\u001b[0m\u001b[1;33m(\u001b[0m\u001b[1;33m)\u001b[0m\u001b[1;33m\u001b[0m\u001b[1;33m\u001b[0m\u001b[0m\n\u001b[0m\u001b[0;32m    213\u001b[0m                 \u001b[1;32melse\u001b[0m\u001b[1;33m:\u001b[0m\u001b[1;33m\u001b[0m\u001b[1;33m\u001b[0m\u001b[0m\n\u001b[0;32m    214\u001b[0m                     \u001b[1;32mraise\u001b[0m \u001b[0mRetryError\u001b[0m\u001b[1;33m(\u001b[0m\u001b[0mattempt\u001b[0m\u001b[1;33m)\u001b[0m\u001b[1;33m\u001b[0m\u001b[1;33m\u001b[0m\u001b[0m\n",
      "\u001b[1;32mc:\\users\\user\\appdata\\local\\programs\\python\\python39\\lib\\site-packages\\retrying.py\u001b[0m in \u001b[0;36mget\u001b[1;34m(self, wrap_exception)\u001b[0m\n\u001b[0;32m    245\u001b[0m                 \u001b[1;32mraise\u001b[0m \u001b[0mRetryError\u001b[0m\u001b[1;33m(\u001b[0m\u001b[0mself\u001b[0m\u001b[1;33m)\u001b[0m\u001b[1;33m\u001b[0m\u001b[1;33m\u001b[0m\u001b[0m\n\u001b[0;32m    246\u001b[0m             \u001b[1;32melse\u001b[0m\u001b[1;33m:\u001b[0m\u001b[1;33m\u001b[0m\u001b[1;33m\u001b[0m\u001b[0m\n\u001b[1;32m--> 247\u001b[1;33m                 \u001b[0msix\u001b[0m\u001b[1;33m.\u001b[0m\u001b[0mreraise\u001b[0m\u001b[1;33m(\u001b[0m\u001b[0mself\u001b[0m\u001b[1;33m.\u001b[0m\u001b[0mvalue\u001b[0m\u001b[1;33m[\u001b[0m\u001b[1;36m0\u001b[0m\u001b[1;33m]\u001b[0m\u001b[1;33m,\u001b[0m \u001b[0mself\u001b[0m\u001b[1;33m.\u001b[0m\u001b[0mvalue\u001b[0m\u001b[1;33m[\u001b[0m\u001b[1;36m1\u001b[0m\u001b[1;33m]\u001b[0m\u001b[1;33m,\u001b[0m \u001b[0mself\u001b[0m\u001b[1;33m.\u001b[0m\u001b[0mvalue\u001b[0m\u001b[1;33m[\u001b[0m\u001b[1;36m2\u001b[0m\u001b[1;33m]\u001b[0m\u001b[1;33m)\u001b[0m\u001b[1;33m\u001b[0m\u001b[1;33m\u001b[0m\u001b[0m\n\u001b[0m\u001b[0;32m    248\u001b[0m         \u001b[1;32melse\u001b[0m\u001b[1;33m:\u001b[0m\u001b[1;33m\u001b[0m\u001b[1;33m\u001b[0m\u001b[0m\n\u001b[0;32m    249\u001b[0m             \u001b[1;32mreturn\u001b[0m \u001b[0mself\u001b[0m\u001b[1;33m.\u001b[0m\u001b[0mvalue\u001b[0m\u001b[1;33m\u001b[0m\u001b[1;33m\u001b[0m\u001b[0m\n",
      "\u001b[1;32mc:\\users\\user\\appdata\\local\\programs\\python\\python39\\lib\\site-packages\\six.py\u001b[0m in \u001b[0;36mreraise\u001b[1;34m(tp, value, tb)\u001b[0m\n\u001b[0;32m    701\u001b[0m             \u001b[1;32mif\u001b[0m \u001b[0mvalue\u001b[0m\u001b[1;33m.\u001b[0m\u001b[0m__traceback__\u001b[0m \u001b[1;32mis\u001b[0m \u001b[1;32mnot\u001b[0m \u001b[0mtb\u001b[0m\u001b[1;33m:\u001b[0m\u001b[1;33m\u001b[0m\u001b[1;33m\u001b[0m\u001b[0m\n\u001b[0;32m    702\u001b[0m                 \u001b[1;32mraise\u001b[0m \u001b[0mvalue\u001b[0m\u001b[1;33m.\u001b[0m\u001b[0mwith_traceback\u001b[0m\u001b[1;33m(\u001b[0m\u001b[0mtb\u001b[0m\u001b[1;33m)\u001b[0m\u001b[1;33m\u001b[0m\u001b[1;33m\u001b[0m\u001b[0m\n\u001b[1;32m--> 703\u001b[1;33m             \u001b[1;32mraise\u001b[0m \u001b[0mvalue\u001b[0m\u001b[1;33m\u001b[0m\u001b[1;33m\u001b[0m\u001b[0m\n\u001b[0m\u001b[0;32m    704\u001b[0m         \u001b[1;32mfinally\u001b[0m\u001b[1;33m:\u001b[0m\u001b[1;33m\u001b[0m\u001b[1;33m\u001b[0m\u001b[0m\n\u001b[0;32m    705\u001b[0m             \u001b[0mvalue\u001b[0m \u001b[1;33m=\u001b[0m \u001b[1;32mNone\u001b[0m\u001b[1;33m\u001b[0m\u001b[1;33m\u001b[0m\u001b[0m\n",
      "\u001b[1;32mc:\\users\\user\\appdata\\local\\programs\\python\\python39\\lib\\site-packages\\retrying.py\u001b[0m in \u001b[0;36mcall\u001b[1;34m(self, fn, *args, **kwargs)\u001b[0m\n\u001b[0;32m    198\u001b[0m         \u001b[1;32mwhile\u001b[0m \u001b[1;32mTrue\u001b[0m\u001b[1;33m:\u001b[0m\u001b[1;33m\u001b[0m\u001b[1;33m\u001b[0m\u001b[0m\n\u001b[0;32m    199\u001b[0m             \u001b[1;32mtry\u001b[0m\u001b[1;33m:\u001b[0m\u001b[1;33m\u001b[0m\u001b[1;33m\u001b[0m\u001b[0m\n\u001b[1;32m--> 200\u001b[1;33m                 \u001b[0mattempt\u001b[0m \u001b[1;33m=\u001b[0m \u001b[0mAttempt\u001b[0m\u001b[1;33m(\u001b[0m\u001b[0mfn\u001b[0m\u001b[1;33m(\u001b[0m\u001b[1;33m*\u001b[0m\u001b[0margs\u001b[0m\u001b[1;33m,\u001b[0m \u001b[1;33m**\u001b[0m\u001b[0mkwargs\u001b[0m\u001b[1;33m)\u001b[0m\u001b[1;33m,\u001b[0m \u001b[0mattempt_number\u001b[0m\u001b[1;33m,\u001b[0m \u001b[1;32mFalse\u001b[0m\u001b[1;33m)\u001b[0m\u001b[1;33m\u001b[0m\u001b[1;33m\u001b[0m\u001b[0m\n\u001b[0m\u001b[0;32m    201\u001b[0m             \u001b[1;32mexcept\u001b[0m\u001b[1;33m:\u001b[0m\u001b[1;33m\u001b[0m\u001b[1;33m\u001b[0m\u001b[0m\n\u001b[0;32m    202\u001b[0m                 \u001b[0mtb\u001b[0m \u001b[1;33m=\u001b[0m \u001b[0msys\u001b[0m\u001b[1;33m.\u001b[0m\u001b[0mexc_info\u001b[0m\u001b[1;33m(\u001b[0m\u001b[1;33m)\u001b[0m\u001b[1;33m\u001b[0m\u001b[1;33m\u001b[0m\u001b[0m\n",
      "\u001b[1;32mc:\\users\\user\\appdata\\local\\programs\\python\\python39\\lib\\site-packages\\jupyter_dash\\jupyter_app.py\u001b[0m in \u001b[0;36mwait_for_app\u001b[1;34m()\u001b[0m\n\u001b[0;32m    310\u001b[0m                     \u001b[0mhost\u001b[0m\u001b[1;33m=\u001b[0m\u001b[0mhost\u001b[0m\u001b[1;33m,\u001b[0m \u001b[0mport\u001b[0m\u001b[1;33m=\u001b[0m\u001b[0mport\u001b[0m\u001b[1;33m,\u001b[0m \u001b[0mtoken\u001b[0m\u001b[1;33m=\u001b[0m\u001b[0mJupyterDash\u001b[0m\u001b[1;33m.\u001b[0m\u001b[0m_token\u001b[0m\u001b[1;33m\u001b[0m\u001b[1;33m\u001b[0m\u001b[0m\n\u001b[0;32m    311\u001b[0m                 )\n\u001b[1;32m--> 312\u001b[1;33m                 raise OSError(\n\u001b[0m\u001b[0;32m    313\u001b[0m                     \u001b[1;34m\"Address '{url}' already in use.\\n\"\u001b[0m\u001b[1;33m\u001b[0m\u001b[1;33m\u001b[0m\u001b[0m\n\u001b[0;32m    314\u001b[0m                     \"    Try passing a different port to run_server.\".format(\n",
      "\u001b[1;31mOSError\u001b[0m: Address 'http://127.0.0.1:8050' already in use.\n    Try passing a different port to run_server."
     ]
    }
   ],
   "source": [
    "##App Layout\n",
    "app = JupyterDash(__name__)\n",
    "\n",
    "periods = {\n",
    "    'Weekly': ls_date[:-1],\n",
    "    'Monthly': listunique([x[:-3] for x in ls_date][:-1]),\n",
    "    'Yearly': [\"2017\", \"2018\", \"2019\", \"2020\"]\n",
    "}\n",
    "\n",
    "app.layout = html.Div([\n",
    "    html.H1(\"Most Popular Music in the Americas (2017-2020)\", style={'text-align':'center'}),\n",
    "    dcc.Dropdown(id=\"Select_Type\",\n",
    "                options=[\n",
    "                    {\"label\":\"Song\",\"value\":\"Song\"},\n",
    "                    {\"label\":\"Artist\",\"value\":\"Artist\"},\n",
    "                    {\"label\":\"Genre\",\"value\":\"Genre\"}],\n",
    "                placeholder=\"Choose a Type (Song, Artist, Genre)\"\n",
    "                ),\n",
    "    dcc.Dropdown(id=\"Select_Period\",\n",
    "                options=[\n",
    "                    {\"label\":\"Weekly\",\"value\":\"Weekly\"},\n",
    "                    {\"label\":\"Monthly\",\"value\":\"Monthly\"},\n",
    "                    {\"label\":\"Yearly\",\"value\":\"Yearly\"}],\n",
    "                placeholder=\"Choose Date by (Weekly, Monthly, Yearly)\"\n",
    "                ),\n",
    "    dcc.Dropdown(id=\"Select_Date\",\n",
    "                placeholder=\"Choose a Daterange\"\n",
    "                ),\n",
    "    html.Div(id='Loading Status'),\n",
    "    dcc.Graph(id='Map',style={'width': '100%'})\n",
    "\n",
    "\n",
    "    ])\n",
    "\n",
    "##Update Options\n",
    "@app.callback(\n",
    "    dash.dependencies.Output(component_id=\"Select_Date\", component_property=\"options\"),\n",
    "    dash.dependencies.Input(component_id=\"Select_Period\", component_property=\"value\")\n",
    "    )\n",
    "def update_options(value):\n",
    "    return [{'label': i, 'value': i} for i in periods[value]]\n",
    "    \n",
    "##Plot Map\n",
    "@app.callback(\n",
    "    [Output(component_id=\"Map\", component_property=\"figure\"),\n",
    "     Output(component_id=\"Loading Status\", component_property=\"children\")],\n",
    "    [Input(component_id=\"Select_Type\", component_property=\"value\"),\n",
    "    Input(component_id=\"Select_Period\", component_property=\"value\"),\n",
    "    Input(component_id=\"Select_Date\", component_property=\"value\")]\n",
    "    )\n",
    "def update_figure(type_value,period_value,date_value):\n",
    "    figdata = countries.copy()\n",
    "    figdata[\"value\"]=\"\"\n",
    "    figdata[\"value\"].astype(\"object\")\n",
    "    ##Weekly, Songs\n",
    "    if type_value=='Song' and period_value=='Weekly':\n",
    "        for i, code in enumerate(figdata['code']):\n",
    "            figdata.at[i,'value'] = pd.read_sql('SELECT song FROM top200data WHERE id LIKE \"{}%{}\" AND rank in (1,2,3) AND song IS NOT NULL'\\\n",
    "                                                 .format(date_value, code),engine).values\n",
    "    ##Monthly/Yearly, Songs\n",
    "    if type_value=='Song' and (period_value=='Monthly' or 'Yearly'):\n",
    "        for i, code in enumerate(figdata['code']):\n",
    "            monthly = pd.read_sql('SELECT * FROM top200data WHERE date like \"{}%\" AND regioncode = \"{}\" AND song IS NOT NULL'\\\n",
    "                                  .format(date_value, code) ,engine)\n",
    "            monthly['streams'] = monthly['streams'].apply(lambda x: int(x.replace(\",\",\"\")))\n",
    "            figdata.at[i,'value'] = monthly.groupby([\"song\",\"songcode\",\"regioncode\"]).streams.sum().sort_values(ascending=False)[0:3].keys().get_level_values(0)\n",
    "    \n",
    "    ##Artist\n",
    "    if type_value=='Artist':\n",
    "        for i, code in enumerate(figdata['code']):\n",
    "            artist = pd.read_sql('SELECT * FROM top200data WHERE date like \"{}%\" AND regioncode = \"{}\" AND artist IS NOT NULL'\\\n",
    "                                  .format(date_value, code) ,engine)\n",
    "            artist['streams'] = artist['streams'].apply(lambda x: int(x.replace(\",\",\"\")))\n",
    "            artist['artist'] = artist['artist'].apply(lambda x: x.split(', ')[0])\n",
    "            figdata.at[i,'value'] = artist.groupby([\"artist\",\"regioncode\"]).streams.sum().sort_values(ascending=False)[0:3].keys().get_level_values(0)\n",
    "\n",
    "    ##Genre\n",
    "    if type_value=='Genre':\n",
    "        for i, code in enumerate(figdata['code']): \n",
    "            artist = pd.read_sql('SELECT * FROM top200data WHERE date like \"{}%\" AND regioncode = \"{}\" AND artist IS NOT NULL'\\\n",
    "                                  .format(date_value, code) ,engine)\n",
    "            artist['streams'] = artist['streams'].apply(lambda x: int(x.replace(\",\",\"\")))\n",
    "            artist['artist'] = artist['artist'].apply(lambda x: x.split(', ')[0])\n",
    "            genre = artist.copy().groupby([\"artist\",\"regioncode\"]).streams.sum().to_frame().merge(pd.read_csv('../data/artistsdata.csv'), left_on=\"artist\", right_on=\"artist\").dropna()\n",
    "            genre['genre'] = genre['genre'].apply(lambda x: str(x)[1:-1].replace(\"'\",\"\").split(\", \"))\n",
    "            figdata.at[i,'value'] = genre.explode('genre').groupby('genre').streams.sum().sort_values(ascending=False)[0:3].keys()    \n",
    "            \n",
    "    fig = go.Figure(data=go.Choropleth(\n",
    "        locations = figdata['code3'],\n",
    "        z = figdata['color'],\n",
    "        text = figdata['value'],\n",
    "        customdata = figdata['code3'],\n",
    "        hovertemplate = '1. %{text[0]}<br>2. %{text[1]}<br>3. %{text[2]}<extra>%{customdata}</extra>',\n",
    "        colorscale = 'Rainbow',\n",
    "        autocolorscale = False,\n",
    "        reversescale = True,\n",
    "        showscale = False\n",
    "    ))\n",
    "\n",
    "    fig.update_geos(fitbounds=\"locations\")\n",
    "    fig.update_layout(\n",
    "        title_text='',\n",
    "        geo=dict(\n",
    "            showframe=True,\n",
    "            showcoastlines=False,\n",
    "            projection_type='equirectangular'\n",
    "        ),\n",
    "        annotations = [dict(\n",
    "            x=0.55,\n",
    "            y=0.1,\n",
    "            xref='paper',\n",
    "            yref='paper',\n",
    "            text='Source: <a href=\"https://developer.spotify.com\">\\\n",
    "                Spotify</a>',\n",
    "            showarrow = False\n",
    "        )]\n",
    "    )\n",
    "    status = \"The {} Data for Top 3 {}s of {} has been loaded.\".format(period_value, type_value, date_value)\n",
    "    return fig, status\n",
    "\n",
    "\n",
    "app.run_server()"
   ]
  },
  {
   "cell_type": "code",
   "execution_count": 9,
   "id": "68f8368a",
   "metadata": {},
   "outputs": [],
   "source": [
    "##Weekly Songs\n",
    "engine = sqla.create_engine('sqlite:///top200data')\n",
    "pd.read_sql('SELECT * FROM top200data WHERE date = \"2017-01-06\" AND regioncode = \"us\" AND rank IN (1,2,3) ',engine)\n",
    "pd.read_sql('SELECT song FROM top200data WHERE id LIKE \"{}%{}\" AND rank in (1,2,3)'.format(\"2017-01-06\",\"us\"),engine).values[0]\n",
    "for i, code in enumerate(countries['code']):\n",
    "    countries.at[i,'song'] = pd.read_sql('SELECT song FROM top200data WHERE id LIKE \"{}%{}\" AND rank in (1,2,3)'.format(\"2017-01-06\", code),engine).values"
   ]
  },
  {
   "cell_type": "code",
   "execution_count": 10,
   "id": "4fc4ef8a",
   "metadata": {},
   "outputs": [
    {
     "ename": "NameError",
     "evalue": "name 'monthly' is not defined",
     "output_type": "error",
     "traceback": [
      "\u001b[1;31m---------------------------------------------------------------------------\u001b[0m",
      "\u001b[1;31mNameError\u001b[0m                                 Traceback (most recent call last)",
      "\u001b[1;32m<ipython-input-10-7083918ffa9d>\u001b[0m in \u001b[0;36m<module>\u001b[1;34m\u001b[0m\n\u001b[0;32m      2\u001b[0m \u001b[1;31m# monthly = pd.read_sql('SELECT * FROM top200data WHERE date like \"2017-01%\" and regioncode  ',engine)\u001b[0m\u001b[1;33m\u001b[0m\u001b[1;33m\u001b[0m\u001b[1;33m\u001b[0m\u001b[0m\n\u001b[0;32m      3\u001b[0m \u001b[1;31m# monthly['streams'] = monthly['streams'].apply(lambda x: int(x.replace(\",\",\"\")))\u001b[0m\u001b[1;33m\u001b[0m\u001b[1;33m\u001b[0m\u001b[1;33m\u001b[0m\u001b[0m\n\u001b[1;32m----> 4\u001b[1;33m \u001b[0mfigdata\u001b[0m\u001b[1;33m.\u001b[0m\u001b[0mat\u001b[0m\u001b[1;33m[\u001b[0m\u001b[1;36m0\u001b[0m\u001b[1;33m,\u001b[0m\u001b[1;34m'song'\u001b[0m\u001b[1;33m]\u001b[0m \u001b[1;33m=\u001b[0m \u001b[0mnp\u001b[0m\u001b[1;33m.\u001b[0m\u001b[0marray\u001b[0m\u001b[1;33m(\u001b[0m\u001b[0mmonthly\u001b[0m\u001b[1;33m.\u001b[0m\u001b[0mgroupby\u001b[0m\u001b[1;33m(\u001b[0m\u001b[1;33m[\u001b[0m\u001b[1;34m\"song\"\u001b[0m\u001b[1;33m,\u001b[0m\u001b[1;34m\"songcode\"\u001b[0m\u001b[1;33m,\u001b[0m\u001b[1;34m\"regioncode\"\u001b[0m\u001b[1;33m]\u001b[0m\u001b[1;33m)\u001b[0m\u001b[1;33m.\u001b[0m\u001b[0mstreams\u001b[0m\u001b[1;33m.\u001b[0m\u001b[0msum\u001b[0m\u001b[1;33m(\u001b[0m\u001b[1;33m)\u001b[0m\u001b[1;33m.\u001b[0m\u001b[0msort_values\u001b[0m\u001b[1;33m(\u001b[0m\u001b[0mascending\u001b[0m\u001b[1;33m=\u001b[0m\u001b[1;32mFalse\u001b[0m\u001b[1;33m)\u001b[0m\u001b[1;33m[\u001b[0m\u001b[1;36m0\u001b[0m\u001b[1;33m:\u001b[0m\u001b[1;36m3\u001b[0m\u001b[1;33m]\u001b[0m\u001b[1;33m.\u001b[0m\u001b[0mkeys\u001b[0m\u001b[1;33m(\u001b[0m\u001b[1;33m)\u001b[0m\u001b[1;33m.\u001b[0m\u001b[0mget_level_values\u001b[0m\u001b[1;33m(\u001b[0m\u001b[1;36m0\u001b[0m\u001b[1;33m)\u001b[0m\u001b[1;33m.\u001b[0m\u001b[0mtolist\u001b[0m\u001b[1;33m(\u001b[0m\u001b[1;33m)\u001b[0m\u001b[1;33m)\u001b[0m\u001b[1;33m.\u001b[0m\u001b[0mastype\u001b[0m\u001b[1;33m(\u001b[0m\u001b[1;34m'str'\u001b[0m\u001b[1;33m)\u001b[0m\u001b[1;33m\u001b[0m\u001b[1;33m\u001b[0m\u001b[0m\n\u001b[0m",
      "\u001b[1;31mNameError\u001b[0m: name 'monthly' is not defined"
     ]
    }
   ],
   "source": [
    "##Monthly Songs\n",
    "# monthly = pd.read_sql('SELECT * FROM top200data WHERE date like \"2017-01%\" and regioncode  ',engine)\n",
    "# monthly['streams'] = monthly['streams'].apply(lambda x: int(x.replace(\",\",\"\")))\n",
    "figdata.at[0,'song'] = np.array(monthly.groupby([\"song\",\"songcode\",\"regioncode\"]).streams.sum().sort_values(ascending=False)[0:3].keys().get_level_values(0).tolist()).astype('str')"
   ]
  },
  {
   "cell_type": "code",
   "execution_count": 17,
   "id": "fc928256",
   "metadata": {},
   "outputs": [],
   "source": [
    "figdata=countries.copy()\n",
    "for i, code in enumerate(figdata['code']):\n",
    "    monthly = pd.read_sql('SELECT * FROM top200data WHERE date like \"{}%\" AND regioncode = \"{}\" '\\\n",
    "                          .format('2019-02', code) ,engine)\n",
    "    monthly['streams'] = monthly['streams'].apply(lambda x: int(x.replace(\",\",\"\")))\n",
    "    figdata.at[i,'song'] = monthly.groupby([\"song\",\"songcode\",\"regioncode\"]).streams.sum().sort_values(ascending=False)[0:3].keys().get_level_values(0)[0]\n"
   ]
  },
  {
   "cell_type": "code",
   "execution_count": 72,
   "id": "cf83f5d0",
   "metadata": {},
   "outputs": [],
   "source": [
    "##Artist\n",
    "figdata=countries.copy()\n",
    "figdata['artist']=\"\"\n",
    "figdata.astype(\"object\")\n",
    "for i, code in enumerate(figdata['code']):\n",
    "    artist = pd.read_sql('SELECT * FROM top200data WHERE date like \"{}%\" AND regioncode = \"{}\" AND artist IS NOT NULL'\\\n",
    "                          .format('2017-02', code) ,engine)\n",
    "    artist['streams'] = artist['streams'].apply(lambda x: int(x.replace(\",\",\"\")))\n",
    "    artist['artist'] = artist['artist'].apply(lambda x: x.split(', ')[0])\n",
    "    figdata.at[i,'artist'] = artist.groupby([\"artist\",\"regioncode\"]).streams.sum().sort_values(ascending=False)[0:3].keys().get_level_values(0)"
   ]
  },
  {
   "cell_type": "code",
   "execution_count": 184,
   "id": "f0ec26f6",
   "metadata": {},
   "outputs": [
    {
     "ename": "NameError",
     "evalue": "name 'type_value' is not defined",
     "output_type": "error",
     "traceback": [
      "\u001b[1;31m---------------------------------------------------------------------------\u001b[0m",
      "\u001b[1;31mNameError\u001b[0m                                 Traceback (most recent call last)",
      "\u001b[1;32m<ipython-input-184-917a06a284ff>\u001b[0m in \u001b[0;36m<module>\u001b[1;34m\u001b[0m\n\u001b[0;32m      1\u001b[0m \u001b[1;31m##Genre\u001b[0m\u001b[1;33m\u001b[0m\u001b[1;33m\u001b[0m\u001b[1;33m\u001b[0m\u001b[0m\n\u001b[1;32m----> 2\u001b[1;33m \u001b[1;32mif\u001b[0m \u001b[0mtype_value\u001b[0m\u001b[1;33m==\u001b[0m\u001b[1;34m'Artist'\u001b[0m\u001b[1;33m:\u001b[0m\u001b[1;33m\u001b[0m\u001b[1;33m\u001b[0m\u001b[0m\n\u001b[0m\u001b[0;32m      3\u001b[0m     \u001b[1;32mfor\u001b[0m \u001b[0mi\u001b[0m\u001b[1;33m,\u001b[0m \u001b[0mcode\u001b[0m \u001b[1;32min\u001b[0m \u001b[0menumerate\u001b[0m\u001b[1;33m(\u001b[0m\u001b[0mfigdata\u001b[0m\u001b[1;33m[\u001b[0m\u001b[1;34m'code'\u001b[0m\u001b[1;33m]\u001b[0m\u001b[1;33m)\u001b[0m\u001b[1;33m:\u001b[0m\u001b[1;33m\u001b[0m\u001b[1;33m\u001b[0m\u001b[0m\n\u001b[0;32m      4\u001b[0m         artist = pd.read_sql('SELECT * FROM top200data WHERE date like \"{}%\" AND regioncode = \"{}\" AND artist IS NOT NULL'\\\n\u001b[0;32m      5\u001b[0m                               .format('2020', 'us') ,engine)\n",
      "\u001b[1;31mNameError\u001b[0m: name 'type_value' is not defined"
     ]
    }
   ],
   "source": [
    "##Genre\n",
    "if type_value=='Artist':\n",
    "    for i, code in enumerate(figdata['code']):\n",
    "        artist = pd.read_sql('SELECT * FROM top200data WHERE date like \"{}%\" AND regioncode = \"{}\" AND artist IS NOT NULL'\\\n",
    "                              .format('2020', 'us') ,engine)\n",
    "        artist['streams'] = artist['streams'].apply(lambda x: int(x.replace(\",\",\"\")))\n",
    "        artist['artist'] = artist['artist'].apply(lambda x: x.split(', ')[0])\n",
    "        figdata.at[i,'value'] = artist.groupby([\"artist\",\"regioncode\"]).streams.sum().sort_values(ascending=False)[0:3].keys().get_level_values(0)\n"
   ]
  },
  {
   "cell_type": "code",
   "execution_count": 188,
   "id": "7b6bce6f",
   "metadata": {},
   "outputs": [
    {
     "data": {
      "text/plain": [
       "Index(['rap', 'pop', 'melodic rap'], dtype='object', name='genre')"
      ]
     },
     "execution_count": 188,
     "metadata": {},
     "output_type": "execute_result"
    }
   ],
   "source": [
    "def clean_alt_list(list_):\n",
    "    list_ = list_.replace(', ', '\",\"')\n",
    "    list_ = list_.replace('[', '[\"')\n",
    "    list_ = list_.replace(']', '\"]')\n",
    "    return list_\n",
    "artist = pd.read_sql('SELECT * FROM top200data WHERE date like \"{}%\" AND regioncode = \"{}\" AND artist IS NOT NULL'\\\n",
    "                              .format('2020', 'us') ,engine)\n",
    "artist['streams'] = artist['streams'].apply(lambda x: int(x.replace(\",\",\"\")))\n",
    "artist['artist'] = artist['artist'].apply(lambda x: x.split(', ')[0])\n",
    "genre = artist.groupby([\"artist\",\"regioncode\"]).streams.sum().to_frame().merge(pd.read_csv('../data/artistsdata.csv'), left_on=\"artist\", right_on=\"artist\").dropna()\n",
    "genre['genre'][1][1:-1].replace(\"'\",\"\").split(\", \")\n",
    "genre['genre'] = genre['genre'].apply(lambda x: str(x)[1:-1].replace(\"'\",\"\").split(\", \"))\n",
    "genre.explode('genre').groupby('genre').streams.sum().sort_values(ascending=False)[0:3].keys()"
   ]
  }
 ],
 "metadata": {
  "kernelspec": {
   "display_name": "Python 3",
   "language": "python",
   "name": "python3"
  },
  "language_info": {
   "codemirror_mode": {
    "name": "ipython",
    "version": 3
   },
   "file_extension": ".py",
   "mimetype": "text/x-python",
   "name": "python",
   "nbconvert_exporter": "python",
   "pygments_lexer": "ipython3",
   "version": "3.9.3"
  }
 },
 "nbformat": 4,
 "nbformat_minor": 5
}
